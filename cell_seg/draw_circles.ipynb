{
 "cells": [
  {
   "cell_type": "code",
   "execution_count": 1,
   "id": "5a760240",
   "metadata": {},
   "outputs": [],
   "source": [
    "import glob\n",
    "import pandas as pd\n",
    "import numpy as np\n",
    "from tqdm import tqdm\n",
    "from PIL import Image\n",
    "import matplotlib.pyplot as plt\n",
    "import random"
   ]
  },
  {
   "cell_type": "code",
   "execution_count": 2,
   "id": "767bd4f4",
   "metadata": {},
   "outputs": [],
   "source": [
    "csvs = sorted(glob.glob('/workspace/jay/DDP/Ocelot/ocelot2023/annotations/train/cell/*.csv'))\n",
    "imgs = sorted(glob.glob('/workspace/jay/DDP/Ocelot/ocelot2023/images/train/cell/*.jpg'))\n",
    "#masks = sorted(glob.glob('/workspace/jay/DDP/Ocelot/ocelot2023/cell_seg_masks/*.npy'))\n",
    "assert(len(csvs)==len(imgs))"
   ]
  },
  {
   "cell_type": "code",
   "execution_count": 3,
   "id": "80a45a97",
   "metadata": {},
   "outputs": [
    {
     "name": "stderr",
     "output_type": "stream",
     "text": [
      "100%|████████████████████████████████████████████████████████████████████████████████████████████████████████████████████████████████████████████████████████████████████| 400/400 [04:33<00:00,  1.46it/s]\n"
     ]
    }
   ],
   "source": [
    "for i in tqdm(range(len(csvs))):   #creating masks for original cell patches\n",
    "    try:\n",
    "        annot = pd.read_csv(csvs[i],header=None)\n",
    "        name = csvs[i].split('/')[-1][:-4]\n",
    "        gt = np.zeros((3,1024,1024))\n",
    "        for j in range(len(annot)):\n",
    "            x,y,clas = annot.loc[j][0], annot.loc[j][1], annot.loc[j][2]\n",
    "            Y, X = np.ogrid[:1024, :1024]\n",
    "            dist_from_center = np.sqrt((X - x)**2 + (Y-y)**2)\n",
    "            mask = dist_from_center <= 15\n",
    "            if clas==1:\n",
    "                gt[0][mask] = 1\n",
    "            else:\n",
    "                gt[1][mask] = 1\n",
    "        #gt[2][np.where(gt[0]!=1) and np.where(gt[1]!=1)] = 1\n",
    "        temp = np.bitwise_or(gt[0].astype(int),gt[1].astype(int))\n",
    "        gt[2][np.where(temp==0)]  = 1\n",
    "        \n",
    "        np.save(f'/workspace/jay/DDP/Ocelot/ocelot2023/cell_seg_masks_v3/{name}.npy', gt)\n",
    "    except: \n",
    "        name = csvs[i].split('/')[-1][:-4]\n",
    "        gt = np.zeros((3,1024,1024))\n",
    "        gt[2] = 1\n",
    "        np.save(f'/workspace/jay/DDP/Ocelot/ocelot2023/cell_seg_masks_v3/{name}.npy', gt)"
   ]
  },
  {
   "cell_type": "code",
   "execution_count": null,
   "id": "0de631c8",
   "metadata": {},
   "outputs": [],
   "source": []
  },
  {
   "cell_type": "code",
   "execution_count": null,
   "id": "496faa32",
   "metadata": {},
   "outputs": [],
   "source": []
  },
  {
   "cell_type": "code",
   "execution_count": 7,
   "id": "1a28d0f2",
   "metadata": {},
   "outputs": [
    {
     "name": "stdout",
     "output_type": "stream",
     "text": [
      "400\n"
     ]
    }
   ],
   "source": [
    "masks = sorted(glob.glob('/workspace/jay/DDP/Ocelot/ocelot2023/cell_seg_masks/*.npy'))\n",
    "print(len(masks))"
   ]
  },
  {
   "cell_type": "code",
   "execution_count": 8,
   "id": "504b31b4",
   "metadata": {},
   "outputs": [],
   "source": [
    "i=50\n",
    "annot = pd.read_csv(csvs[i],header=None)\n",
    "name = csvs[i].split('/')[-1][:-4]\n",
    "image = np.array(Image.open(imgs[i]))\n",
    "mask = np.load(masks[i])"
   ]
  },
  {
   "cell_type": "code",
   "execution_count": 9,
   "id": "e4d1b537",
   "metadata": {},
   "outputs": [],
   "source": [
    "j=17\n",
    "y,x,clas = annot.loc[j][0], annot.loc[j][1], annot.loc[j][2]  "
   ]
  },
  {
   "cell_type": "code",
   "execution_count": 10,
   "id": "903b0aeb",
   "metadata": {},
   "outputs": [
    {
     "data": {
      "text/plain": [
       "<matplotlib.image.AxesImage at 0x7f184f5247f0>"
      ]
     },
     "execution_count": 10,
     "metadata": {},
     "output_type": "execute_result"
    },
    {
     "data": {
      "image/png": "[encoded data removed]",
      "text/plain": [
       "<Figure size 432x288 with 1 Axes>"
      ]
     },
     "metadata": {
      "needs_background": "light"
     },
     "output_type": "display_data"
    }
   ],
   "source": [
    "plt.imshow(np.moveaxis(mask,0,-1)[x-64:x+64,y-64:y+64,:])"
   ]
  },
  {
   "cell_type": "code",
   "execution_count": 8,
   "id": "6d59dabd",
   "metadata": {},
   "outputs": [
    {
     "data": {
      "text/plain": [
       "array([[[0., 0., 0., ..., 0., 0., 0.],\n",
       "        [0., 0., 0., ..., 0., 0., 0.],\n",
       "        [0., 0., 0., ..., 0., 0., 0.],\n",
       "        ...,\n",
       "        [0., 0., 0., ..., 0., 0., 0.],\n",
       "        [0., 0., 0., ..., 0., 0., 0.],\n",
       "        [0., 0., 0., ..., 0., 0., 0.]],\n",
       "\n",
       "       [[0., 0., 0., ..., 1., 1., 1.],\n",
       "        [0., 0., 0., ..., 1., 1., 1.],\n",
       "        [0., 0., 0., ..., 1., 1., 1.],\n",
       "        ...,\n",
       "        [0., 0., 0., ..., 0., 0., 0.],\n",
       "        [0., 0., 0., ..., 0., 0., 0.],\n",
       "        [0., 0., 0., ..., 0., 0., 0.]],\n",
       "\n",
       "       [[1., 1., 1., ..., 0., 0., 0.],\n",
       "        [1., 1., 1., ..., 0., 0., 0.],\n",
       "        [1., 1., 1., ..., 0., 0., 0.],\n",
       "        ...,\n",
       "        [1., 1., 1., ..., 1., 1., 1.],\n",
       "        [1., 1., 1., ..., 1., 1., 1.],\n",
       "        [1., 1., 1., ..., 1., 1., 1.]]])"
      ]
     },
     "execution_count": 8,
     "metadata": {},
     "output_type": "execute_result"
    }
   ],
   "source": [
    "mask[:,x-20:x+20,y-20:y+20]"
   ]
  },
  {
   "cell_type": "code",
   "execution_count": 10,
   "id": "9f8411cf",
   "metadata": {},
   "outputs": [
    {
     "data": {
      "text/plain": [
       "(3, 1024, 1024)"
      ]
     },
     "execution_count": 10,
     "metadata": {},
     "output_type": "execute_result"
    }
   ],
   "source": [
    "mask.shape"
   ]
  },
  {
   "cell_type": "code",
   "execution_count": 10,
   "id": "3e41a174",
   "metadata": {},
   "outputs": [
    {
     "data": {
      "text/plain": [
       "array([[[0., 0., 1.],\n",
       "        [0., 0., 1.],\n",
       "        [0., 0., 1.],\n",
       "        ...,\n",
       "        [0., 1., 0.],\n",
       "        [0., 1., 0.],\n",
       "        [0., 1., 0.]],\n",
       "\n",
       "       [[0., 0., 1.],\n",
       "        [0., 0., 1.],\n",
       "        [0., 0., 1.],\n",
       "        ...,\n",
       "        [0., 1., 0.],\n",
       "        [0., 1., 0.],\n",
       "        [0., 1., 0.]],\n",
       "\n",
       "       [[0., 0., 1.],\n",
       "        [0., 0., 1.],\n",
       "        [0., 0., 1.],\n",
       "        ...,\n",
       "        [0., 1., 0.],\n",
       "        [0., 1., 0.],\n",
       "        [0., 0., 1.]],\n",
       "\n",
       "       ...,\n",
       "\n",
       "       [[0., 0., 1.],\n",
       "        [0., 0., 1.],\n",
       "        [0., 0., 1.],\n",
       "        ...,\n",
       "        [0., 0., 1.],\n",
       "        [0., 0., 1.],\n",
       "        [0., 0., 1.]],\n",
       "\n",
       "       [[0., 0., 1.],\n",
       "        [0., 0., 1.],\n",
       "        [0., 0., 1.],\n",
       "        ...,\n",
       "        [0., 0., 1.],\n",
       "        [0., 0., 1.],\n",
       "        [0., 0., 1.]],\n",
       "\n",
       "       [[0., 0., 1.],\n",
       "        [0., 0., 1.],\n",
       "        [0., 0., 1.],\n",
       "        ...,\n",
       "        [0., 0., 1.],\n",
       "        [0., 0., 1.],\n",
       "        [0., 0., 1.]]])"
      ]
     },
     "execution_count": 10,
     "metadata": {},
     "output_type": "execute_result"
    }
   ],
   "source": [
    "np.moveaxis(mask,0,-1)[x-64:x+64,y-64:y+64,:]"
   ]
  },
  {
   "cell_type": "code",
   "execution_count": 29,
   "id": "f9b5feaa",
   "metadata": {},
   "outputs": [
    {
     "data": {
      "text/plain": [
       "<matplotlib.image.AxesImage at 0x7fd310849a00>"
      ]
     },
     "execution_count": 29,
     "metadata": {},
     "output_type": "execute_result"
    },
    {
     "data": {
      "image/png": "[encoded data removed]",
      "text/plain": [
       "<Figure size 432x288 with 1 Axes>"
      ]
     },
     "metadata": {
      "needs_background": "light"
     },
     "output_type": "display_data"
    }
   ],
   "source": [
    "plt.imshow(np.moveaxis(gt,0,-1))"
   ]
  },
  {
   "cell_type": "code",
   "execution_count": 11,
   "id": "b817310f",
   "metadata": {},
   "outputs": [
    {
     "data": {
      "text/plain": [
       "'006'"
      ]
     },
     "execution_count": 11,
     "metadata": {},
     "output_type": "execute_result"
    }
   ],
   "source": [
    "name"
   ]
  },
  {
   "cell_type": "code",
   "execution_count": 11,
   "id": "4106b929",
   "metadata": {},
   "outputs": [
    {
     "data": {
      "text/plain": [
       "(3, 1024, 1024)"
      ]
     },
     "execution_count": 11,
     "metadata": {},
     "output_type": "execute_result"
    }
   ],
   "source": [
    "gt.shape"
   ]
  },
  {
   "cell_type": "code",
   "execution_count": 4,
   "id": "f7fd44d8",
   "metadata": {},
   "outputs": [
    {
     "data": {
      "text/plain": [
       "(3, 1024, 1024)"
      ]
     },
     "execution_count": 4,
     "metadata": {},
     "output_type": "execute_result"
    }
   ],
   "source": [
    "np.load(masks[0]).shape"
   ]
  },
  {
   "cell_type": "code",
   "execution_count": 13,
   "id": "deee4679",
   "metadata": {},
   "outputs": [],
   "source": [
    "mask = np.moveaxis(mask,0,-1)"
   ]
  },
  {
   "cell_type": "code",
   "execution_count": 10,
   "id": "2f73d0cb",
   "metadata": {},
   "outputs": [
    {
     "data": {
      "text/plain": [
       "1048593.0"
      ]
     },
     "execution_count": 10,
     "metadata": {},
     "output_type": "execute_result"
    }
   ],
   "source": [
    "np.sum(np.sum(np.load(masks[2]),axis=0))"
   ]
  },
  {
   "cell_type": "code",
   "execution_count": null,
   "id": "a38a9c3d",
   "metadata": {},
   "outputs": [],
   "source": []
  }
 ],
 "metadata": {
  "kernelspec": {
   "display_name": "Python 3 (ipykernel)",
   "language": "python",
   "name": "python3"
  },
  "language_info": {
   "codemirror_mode": {
    "name": "ipython",
    "version": 3
   },
   "file_extension": ".py",
   "mimetype": "text/x-python",
   "name": "python",
   "nbconvert_exporter": "python",
   "pygments_lexer": "ipython3",
   "version": "3.8.13"
  }
 },
 "nbformat": 4,
 "nbformat_minor": 5
}
