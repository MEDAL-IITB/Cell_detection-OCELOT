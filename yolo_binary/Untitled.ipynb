{
 "cells": [
  {
   "cell_type": "code",
   "execution_count": 1,
   "id": "267f5ed2",
   "metadata": {},
   "outputs": [],
   "source": [
    "import glob\n",
    "import numpy as np"
   ]
  },
  {
   "cell_type": "code",
   "execution_count": 6,
   "id": "b7270004",
   "metadata": {},
   "outputs": [],
   "source": [
    "val = glob.glob('/workspace/jay/DDP/Ocelot/yolo_binary/datasets/cell_detect_33-1/valid/images/*.jpg')\n",
    "test = glob.glob('/workspace/jay/DDP/Ocelot/yolo_binary/datasets/cell_detect_33-1/test/images/*.jpg')"
   ]
  },
  {
   "cell_type": "code",
   "execution_count": 7,
   "id": "0feba279",
   "metadata": {},
   "outputs": [],
   "source": [
    "val_files = np.unique(np.array([(x.split('/')[-1][:3]) for x in val]))\n",
    "test_files = np.unique(np.array([(x.split('/')[-1][:3]) for x in test]))"
   ]
  },
  {
   "cell_type": "code",
   "execution_count": 8,
   "id": "787a7f96",
   "metadata": {},
   "outputs": [
    {
     "data": {
      "text/plain": [
       "array(['037', '038', '055', '056', '078', '087', '095', '108', '114',\n",
       "       '141', '143', '146', '148', '153', '180', '184', '187', '188',\n",
       "       '189', '194', '195', '202', '213', '223', '238', '242', '276',\n",
       "       '285', '287', '291', '300', '319', '333', '349', '358', '385',\n",
       "       '386', '388', '390', '399'], dtype='<U3')"
      ]
     },
     "execution_count": 8,
     "metadata": {},
     "output_type": "execute_result"
    }
   ],
   "source": [
    "val_files"
   ]
  },
  {
   "cell_type": "code",
   "execution_count": 9,
   "id": "1ce22d2b",
   "metadata": {},
   "outputs": [
    {
     "data": {
      "text/plain": [
       "array(['013', '016', '024', '026', '027', '028', '039', '047', '049',\n",
       "       '061', '066', '067', '101', '107', '116', '121', '140', '155',\n",
       "       '159', '163', '164', '166', '167', '172', '177', '190', '196',\n",
       "       '203', '211', '237', '312', '315', '318', '337', '350', '362',\n",
       "       '369', '374', '393', '398'], dtype='<U3')"
      ]
     },
     "execution_count": 9,
     "metadata": {},
     "output_type": "execute_result"
    }
   ],
   "source": [
    "test_files"
   ]
  },
  {
   "cell_type": "code",
   "execution_count": 10,
   "id": "126950a8",
   "metadata": {},
   "outputs": [
    {
     "data": {
      "text/plain": [
       "40"
      ]
     },
     "execution_count": 10,
     "metadata": {},
     "output_type": "execute_result"
    }
   ],
   "source": [
    "len(val_files)"
   ]
  },
  {
   "cell_type": "code",
   "execution_count": null,
   "id": "ab9c050f",
   "metadata": {},
   "outputs": [],
   "source": []
  }
 ],
 "metadata": {
  "kernelspec": {
   "display_name": "Python 3 (ipykernel)",
   "language": "python",
   "name": "python3"
  },
  "language_info": {
   "codemirror_mode": {
    "name": "ipython",
    "version": 3
   },
   "file_extension": ".py",
   "mimetype": "text/x-python",
   "name": "python",
   "nbconvert_exporter": "python",
   "pygments_lexer": "ipython3",
   "version": "3.8.13"
  }
 },
 "nbformat": 4,
 "nbformat_minor": 5
}
