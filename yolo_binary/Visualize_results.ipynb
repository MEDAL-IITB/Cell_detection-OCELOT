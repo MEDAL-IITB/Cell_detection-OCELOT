{
 "cells": [
  {
   "cell_type": "code",
   "execution_count": 1,
   "id": "0a724494",
   "metadata": {},
   "outputs": [
    {
     "name": "stderr",
     "output_type": "stream",
     "text": [
      "/opt/conda/lib/python3.8/site-packages/tqdm/auto.py:22: TqdmWarning: IProgress not found. Please update jupyter and ipywidgets. See https://ipywidgets.readthedocs.io/en/stable/user_install.html\n",
      "  from .autonotebook import tqdm as notebook_tqdm\n"
     ]
    }
   ],
   "source": [
    "import numpy as np\n",
    "import pandas as pd\n",
    "import PIL\n",
    "import glob\n",
    "import random\n",
    "import copy\n",
    "import matplotlib.pyplot as plt\n",
    "from tqdm import tqdm\n",
    "from ultralytics import YOLO\n",
    "import cv2\n",
    "from IPython.display import Image, display"
   ]
  },
  {
   "cell_type": "code",
   "execution_count": 2,
   "id": "1ca4c925",
   "metadata": {},
   "outputs": [],
   "source": [
    "model = YOLO('/workspace/jay/DDP/Ocelot/yolo_binary/runs/detect/train/weights/best.pt')\n",
    "files = sorted(glob.glob('/workspace/jay/DDP/Ocelot/ocelot2023/images/train/cell/*.jpg'))\n",
    "#temp = glob.glob('/workspace/jay/DDP/Ocelot/yolo_binary/datasets/cell_detect_33-1/test/images/*.jpg')"
   ]
  },
  {
   "cell_type": "code",
   "execution_count": 3,
   "id": "88dd3d22",
   "metadata": {},
   "outputs": [],
   "source": [
    "val = glob.glob('/workspace/jay/DDP/Ocelot/yolo_binary/datasets/cell_detect_33-1/valid/images/*.jpg')\n",
    "test = glob.glob('/workspace/jay/DDP/Ocelot/yolo_binary/datasets/cell_detect_33-1/test/images/*.jpg')\n",
    "val_files = np.unique(np.array([x.split('/')[-1][:3] for x in val]))\n",
    "test_files = np.unique(np.array([x.split('/')[-1][:3] for x in test]))"
   ]
  },
  {
   "cell_type": "code",
   "execution_count": 4,
   "id": "1e542bf8",
   "metadata": {},
   "outputs": [
    {
     "name": "stderr",
     "output_type": "stream",
     "text": [
      "  0%|                                                                                                                                                                               | 0/40 [00:00<?, ?it/s]Ultralytics YOLOv8.0.20 🚀 Python-3.8.13 torch-1.13.1+cu117 CUDA:0 (NVIDIA A100-SXM4-80GB, 81251MiB)\n",
      "Model summary (fused): 218 layers, 25840918 parameters, 0 gradients, 78.7 GFLOPs\n",
      "100%|██████████████████████████████████████████████████████████████████████████████████████████████████████████████████████████████████████████████████████████████████████| 40/40 [00:23<00:00,  1.67it/s]\n"
     ]
    }
   ],
   "source": [
    "for k in tqdm(range(40)):\n",
    "    color=(255,0,0)\n",
    "    file = val_files[k]\n",
    "    #file = test_files[k]\n",
    "    idx = int(file) -1 \n",
    "    path = f'/workspace/jay/DDP/Ocelot/ocelot2023/images/train/cell/{file}.jpg'\n",
    "    annot_path = f'/workspace/jay/DDP/Ocelot/ocelot2023/annotations/train/cell/{file}.csv'\n",
    "    df = pd.read_csv(annot_path,header=None)\n",
    "    img1 = np.array(PIL.Image.open(path))\n",
    "    img2 = copy.deepcopy(img1)\n",
    "\n",
    "    out = model.predict(path,conf=0.2,iou=0.5)\n",
    "    out = out[0].cpu().numpy()\n",
    "    boxes = out.boxes.data\n",
    "\n",
    "    for i in range(len(df)):\n",
    "        x,y = df.loc[i][0],df.loc[i][1]\n",
    "        clas = df.loc[i][2] - 1\n",
    "        start = (x-17,y-17)\n",
    "        end = (x+17,y+17)\n",
    "        if clas==0:\n",
    "            cv2.rectangle(img1, start, end, (0,255,0),2)     # class = 0, BC, Green\n",
    "        else:\n",
    "            cv2.rectangle(img1, start, end, (255,0,0),2)     # class = 1, TC, Red\n",
    "\n",
    "    for i in range(len(boxes)):\n",
    "        box = boxes[i][:4].astype(int)\n",
    "        x,y = min(1023,int((boxes[i][0]+boxes[i][2])/2)), min(1023,int((boxes[i][1]+boxes[i][3])/2))\n",
    "        #prob = boxes[i][4]\n",
    "        start = (x-17,y-17)\n",
    "        end = (x+17,y+17)\n",
    "        clas = boxes[i][5] \n",
    "        if clas==0:\n",
    "            cv2.rectangle(img2, start, end, (0,255,0),2)    # class = 0, BC, Green\n",
    "        else:\n",
    "            cv2.rectangle(img2, start, end, (255,0,0),2)    # class = 1, TC, Red\n",
    "\n",
    "    final_img = np.concatenate([img1,np.zeros((1024,50,3)).astype(int)],axis=1)\n",
    "    finall_img = np.concatenate([final_img,img2],axis=1)\n",
    "\n",
    "    plt.ioff()\n",
    "    f = plt.figure()\n",
    "    f.set_figwidth(18)\n",
    "    f.set_figheight(9)\n",
    "    plt.imshow(finall_img)\n",
    "    plt.title('Val: '+file)\n",
    "    f.savefig(f'/workspace/jay/DDP/Ocelot/yolo_binary/visualize/val/{file}.png')\n",
    "    plt.close(f)\n",
    "    #plt.imshow(finall_img)        \n",
    "                        \n",
    "            \n",
    "                                ###Ground truth                                                    ### Predicted"
   ]
  },
  {
   "cell_type": "code",
   "execution_count": null,
   "id": "d5c6e749",
   "metadata": {},
   "outputs": [],
   "source": []
  },
  {
   "cell_type": "code",
   "execution_count": 8,
   "id": "f0caa715",
   "metadata": {},
   "outputs": [],
   "source": []
  },
  {
   "cell_type": "code",
   "execution_count": null,
   "id": "108bdeaf",
   "metadata": {},
   "outputs": [],
   "source": []
  },
  {
   "cell_type": "code",
   "execution_count": null,
   "id": "2e39adda",
   "metadata": {},
   "outputs": [],
   "source": []
  },
  {
   "cell_type": "code",
   "execution_count": null,
   "id": "ac912add",
   "metadata": {},
   "outputs": [],
   "source": []
  }
 ],
 "metadata": {
  "kernelspec": {
   "display_name": "Python 3 (ipykernel)",
   "language": "python",
   "name": "python3"
  },
  "language_info": {
   "codemirror_mode": {
    "name": "ipython",
    "version": 3
   },
   "file_extension": ".py",
   "mimetype": "text/x-python",
   "name": "python",
   "nbconvert_exporter": "python",
   "pygments_lexer": "ipython3",
   "version": "3.8.13"
  }
 },
 "nbformat": 4,
 "nbformat_minor": 5
}
