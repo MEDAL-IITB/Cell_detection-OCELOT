{
 "cells": [
  {
   "cell_type": "code",
   "execution_count": 1,
   "id": "75407529",
   "metadata": {},
   "outputs": [
    {
     "name": "stderr",
     "output_type": "stream",
     "text": [
      "/opt/conda/lib/python3.8/site-packages/tqdm/auto.py:22: TqdmWarning: IProgress not found. Please update jupyter and ipywidgets. See https://ipywidgets.readthedocs.io/en/stable/user_install.html\n",
      "  from .autonotebook import tqdm as notebook_tqdm\n"
     ]
    }
   ],
   "source": [
    "import numpy as np\n",
    "from torch.utils.data import Dataset\n",
    "from PIL import Image\n",
    "import glob\n",
    "import random\n",
    "import torch\n",
    "import matplotlib.pyplot as plt\n",
    "from torch.utils.data import DataLoader\n",
    "import torchvision.transforms as T\n",
    "import segmentation_models_pytorch as smp\n",
    "from tqdm import tqdm\n",
    "import cv2\n",
    "from skimage import feature\n",
    "import json\n",
    "\n",
    "#cv2.setNumThreads(1)"
   ]
  },
  {
   "cell_type": "code",
   "execution_count": 2,
   "id": "4629c273",
   "metadata": {},
   "outputs": [],
   "source": [
    "val = glob.glob('/workspace/jay/DDP/Ocelot/yolo_binary/datasets/cell_detect_33-1/valid/images/*.jpg')\n",
    "test = glob.glob('/workspace/jay/DDP/Ocelot/yolo_binary/datasets/cell_detect_33-1/test/images/*.jpg')\n",
    "train = sorted(glob.glob('/workspace/jay/DDP/Ocelot/ocelot2023/images/train/cell/*.jpg'))\n",
    "val_files = np.unique(np.array([x.split('/')[-1][:3] for x in val]))\n",
    "test_files = np.unique(np.array([x.split('/')[-1][:3] for x in test]))\n",
    "temp = [x.split('/')[-1][:3] for x in train]\n",
    "val_set = list(val_files)+list(test_files)\n",
    "train_files = [x for x in temp if x not in val_set]"
   ]
  },
  {
   "cell_type": "code",
   "execution_count": 3,
   "id": "61fd0ecb",
   "metadata": {},
   "outputs": [],
   "source": [
    "device = 'cuda:2'\n",
    "model = torch.load('/workspace/jay/DDP/Ocelot/celltissue/deeplab_dice_ckpts/147_0.28835.pt',map_location=device)\n",
    "model = model.eval()\n",
    "tissue_seg_model = torch.load('/workspace/jay/DDP/Ocelot/tissue_seg/sub_ckpts/41_0.080.pt',map_location=device)\n",
    "tissue_seg_model = tissue_seg_model.eval()\n",
    "softmax = torch.nn.Softmax(dim=1)"
   ]
  },
  {
   "cell_type": "code",
   "execution_count": 4,
   "id": "6d3b64cd",
   "metadata": {},
   "outputs": [],
   "source": [
    "pred_json = {\n",
    "    \"type\": \"Multiple points\",\n",
    "    \"num_images\": len(train_files),\n",
    "    \"points\": [],\n",
    "    \"version\": {\n",
    "        \"major\": 1,\n",
    "        \"minor\": 0,\n",
    "    }\n",
    "}"
   ]
  },
  {
   "cell_type": "code",
   "execution_count": 5,
   "id": "b197d10a",
   "metadata": {},
   "outputs": [],
   "source": [
    "with open('/workspace/jay/DDP/Ocelot/ocelot2023/metadata.json') as f:\n",
    "    jsonn = json.load(f)"
   ]
  },
  {
   "cell_type": "code",
   "execution_count": 6,
   "id": "cd6f565d",
   "metadata": {},
   "outputs": [],
   "source": [
    "def find_cells(heatmap,min_dist=8):\n",
    "    \"\"\"This function detects the cells in the output heatmap\n",
    "    Parameters\n",
    "    ----------\n",
    "    heatmap: torch.tensor\n",
    "        output heatmap of the model,  shape: [1, 3, 1024, 1024]\n",
    "    Returns\n",
    "    -------\n",
    "        List[tuple]: for each predicted cell we provide the tuple (x, y, cls, score)\n",
    "    \"\"\"\n",
    "    arr = heatmap[0,:,:,:].cpu().detach().numpy()\n",
    "    # arr = np.transpose(arr, (1, 2, 0)) # CHW -> HWC\n",
    "\n",
    "    pred_wo_bg,bg = np.split(arr, (2,), axis=0) # Background and non-background channels\n",
    "    bg = np.squeeze(bg, axis=0)\n",
    "    obj = 1.0 - bg\n",
    "\n",
    "    arr = cv2.GaussianBlur(obj, (5,5), sigmaX=3)\n",
    "    peaks = feature.peak_local_max(\n",
    "        arr, min_distance=min_dist, exclude_border=0, threshold_abs=0.0\n",
    "    ) # List[y, x]\n",
    "\n",
    "    maxval = np.max(pred_wo_bg, axis=0)\n",
    "    maxcls_0 = np.argmax(pred_wo_bg, axis=0)\n",
    "\n",
    "    # Filter out peaks if background score dominates\n",
    "    peaks = np.array([peak for peak in peaks if bg[peak[0], peak[1]] < maxval[peak[0], peak[1]]])\n",
    "    if len(peaks) == 0:\n",
    "        return []\n",
    "\n",
    "    # Get score and class of the peaks\n",
    "    scores = maxval[peaks[:, 0], peaks[:, 1]]\n",
    "    peak_class = maxcls_0[peaks[:, 0], peaks[:, 1]]\n",
    "\n",
    "    predicted_cells = [(x, y, c + 1, float(s)) for [y, x], c, s in zip(peaks, peak_class, scores)]\n",
    "\n",
    "    return predicted_cells"
   ]
  },
  {
   "cell_type": "code",
   "execution_count": 7,
   "id": "595ef64e",
   "metadata": {},
   "outputs": [
    {
     "name": "stderr",
     "output_type": "stream",
     "text": [
      "100%|███████████████████████████████████████████████████████████████████████████████████████████████████████████████████████████████████████| 320/320 [24:28<00:00,  4.59s/it]\n"
     ]
    }
   ],
   "source": [
    "for j,file in enumerate(tqdm(train_files)):\n",
    "    idx = int(file) -1 \n",
    "    cell_path = f'/workspace/jay/DDP/Ocelot/ocelot2023/images/train/cell/{file}.jpg'\n",
    "    tissue_path = f'/workspace/jay/DDP/Ocelot/ocelot2023/images/train/tissue/{file}.jpg'\n",
    "    cell = (np.array(Image.open(cell_path))/255) - 0.5\n",
    "    cell = torch.Tensor(np.moveaxis(cell, -1, 0))\n",
    "    cell = cell[None,:]\n",
    "    cell = cell.to(device)\n",
    "    tissue = (np.array(Image.open(tissue_path))/255) - 0.5\n",
    "    tissue = torch.Tensor(np.moveaxis(tissue, -1, 0))\n",
    "    tissue = tissue[None,:]\n",
    "    tissue = tissue.to(device)   \n",
    "    with torch.no_grad():\n",
    "        tissue_out = softmax(tissue_seg_model(tissue))\n",
    "    image = torch.zeros((1,6,1024,1024)).to(device)\n",
    "    for i in range(1):\n",
    "        yc = int(jsonn['sample_pairs'][file]['patch_x_offset']*1024)\n",
    "        xc = int(jsonn['sample_pairs'][file]['patch_y_offset']*1024)\n",
    "        tissue_crop = np.moveaxis(tissue_out[i].cpu().numpy(),0,-1)\n",
    "        tissue_crop = tissue_crop[xc-128:xc+128,yc-128:yc+128,:]\n",
    "        tissue_crop = cv2.resize(tissue_crop, dsize=(1024,1024), interpolation = cv2.INTER_NEAREST)   \n",
    "        tissue_crop = torch.Tensor(np.moveaxis(tissue_crop,-1,0))\n",
    "        image[i] = torch.concat((cell[i],tissue_crop.to(device)),dim=0)\n",
    "    with torch.no_grad():\n",
    "        out_mask = softmax(model(image))\n",
    "    predicted_cells = find_cells(out_mask,min_dist=10)\n",
    "    for i in range(len(predicted_cells)):\n",
    "        x,y,clas,prob = predicted_cells[i]\n",
    "        point = {\n",
    "                \"name\": f\"image_{idx}\",\n",
    "                \"point\": [int(x), int(y), int(clas)],\n",
    "                \"probability\": prob,  # dummy value, since it is a GT, not a prediction\n",
    "                }\n",
    "        pred_json[\"points\"].append(point)\n",
    "                                "
   ]
  },
  {
   "cell_type": "code",
   "execution_count": 8,
   "id": "a4d5f9fd",
   "metadata": {},
   "outputs": [
    {
     "name": "stdout",
     "output_type": "stream",
     "text": [
      "JSON file saved\n"
     ]
    }
   ],
   "source": [
    "# with open(\"/workspace/jay/DDP/Ocelot/jsons/pred1.json\", \"w\") as g:\n",
    "with open(\"/workspace/jay/DDP/Ocelot/ocelot23algo/evaluation/celltissueseg_train.json\", \"w\") as g:\n",
    "    json.dump(pred_json, g)\n",
    "    print(\"JSON file saved\")"
   ]
  },
  {
   "cell_type": "code",
   "execution_count": null,
   "id": "2bac0c1f",
   "metadata": {},
   "outputs": [],
   "source": []
  },
  {
   "cell_type": "code",
   "execution_count": null,
   "id": "f983f57f",
   "metadata": {},
   "outputs": [],
   "source": []
  },
  {
   "cell_type": "code",
   "execution_count": null,
   "id": "1a20edc4",
   "metadata": {},
   "outputs": [],
   "source": []
  },
  {
   "cell_type": "code",
   "execution_count": null,
   "id": "4f5b4121",
   "metadata": {},
   "outputs": [],
   "source": []
  },
  {
   "cell_type": "code",
   "execution_count": null,
   "id": "f084edd6",
   "metadata": {},
   "outputs": [],
   "source": []
  }
 ],
 "metadata": {
  "kernelspec": {
   "display_name": "Python 3 (ipykernel)",
   "language": "python",
   "name": "python3"
  },
  "language_info": {
   "codemirror_mode": {
    "name": "ipython",
    "version": 3
   },
   "file_extension": ".py",
   "mimetype": "text/x-python",
   "name": "python",
   "nbconvert_exporter": "python",
   "pygments_lexer": "ipython3",
   "version": "3.8.13"
  }
 },
 "nbformat": 4,
 "nbformat_minor": 5
}
