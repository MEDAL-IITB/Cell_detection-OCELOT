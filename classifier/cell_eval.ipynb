{
 "cells": [
  {
   "cell_type": "code",
   "execution_count": 1,
   "id": "d7422384",
   "metadata": {},
   "outputs": [
    {
     "name": "stderr",
     "output_type": "stream",
     "text": [
      "/opt/conda/lib/python3.8/site-packages/tqdm/auto.py:22: TqdmWarning: IProgress not found. Please update jupyter and ipywidgets. See https://ipywidgets.readthedocs.io/en/stable/user_install.html\n",
      "  from .autonotebook import tqdm as notebook_tqdm\n"
     ]
    }
   ],
   "source": [
    "import numpy as np\n",
    "import pandas as pd\n",
    "from PIL import Image\n",
    "import glob\n",
    "import json\n",
    "import random\n",
    "import matplotlib.pyplot as plt\n",
    "from tqdm import tqdm\n",
    "from ultralytics import YOLO\n",
    "from torch.utils.data import Dataset\n",
    "from torchvision import models\n",
    "import torch\n",
    "from torch.utils.data import DataLoader\n",
    "import torchvision.transforms as T"
   ]
  },
  {
   "cell_type": "code",
   "execution_count": 2,
   "id": "de05c528",
   "metadata": {},
   "outputs": [],
   "source": [
    "class clsmodel(torch.nn.Module):\n",
    "    def __init__(self):\n",
    "        super(clsmodel,self).__init__()\n",
    "        resnet = models.resnet18(pretrained=True)\n",
    "        self.linear1 = torch.nn.Linear(resnet.fc.in_features,1024)\n",
    "        self.linear2 = torch.nn.Linear(1024,1)\n",
    "        self.sigmoid = torch.nn.Sigmoid()\n",
    "        self.relu = torch.nn.ReLU()\n",
    "        #self.dropout = torch.nn.Dropout(0.25)\n",
    "        self.model = torch.nn.Sequential(*list(resnet.children())[:-1])\n",
    "        #deactivate_requires_grad(self.backbone)\n",
    "    def forward(self,x):\n",
    "        features = self.model(x).flatten(start_dim=1)\n",
    "        x = self.relu(self.linear1(features))\n",
    "        x = self.linear2(x)\n",
    "        pred = self.sigmoid(x)\n",
    "        return pred"
   ]
  },
  {
   "cell_type": "code",
   "execution_count": 3,
   "id": "a861d2c4",
   "metadata": {},
   "outputs": [
    {
     "name": "stderr",
     "output_type": "stream",
     "text": [
      "/opt/conda/lib/python3.8/site-packages/torchvision/models/_utils.py:208: UserWarning: The parameter 'pretrained' is deprecated since 0.13 and may be removed in the future, please use 'weights' instead.\n",
      "  warnings.warn(\n",
      "/opt/conda/lib/python3.8/site-packages/torchvision/models/_utils.py:223: UserWarning: Arguments other than a weight enum or `None` for 'weights' are deprecated since 0.13 and may be removed in the future. The current behavior is equivalent to passing `weights=ResNet18_Weights.IMAGENET1K_V1`. You can also use `weights=ResNet18_Weights.DEFAULT` to get the most up-to-date weights.\n",
      "  warnings.warn(msg)\n"
     ]
    }
   ],
   "source": [
    "device = 'cuda:4'\n",
    "model = YOLO('/workspace/jay/DDP/Ocelot/yolo_binary/runs/detect/train/weights/best.pt')\n",
    "classifier = clsmodel().to(device)\n",
    "classifier.load_state_dict(torch.load('/workspace/jay/DDP/Ocelot/classifier/ckpts_v1/17_0.8209.pt'))\n",
    "classifier = classifier.eval()\n",
    "files = sorted(glob.glob('/workspace/jay/DDP/Ocelot/ocelot2023/images/train/cell/*.jpg'))\n",
    "#temp = glob.glob('/workspace/jay/DDP/Ocelot/yolo_binary/datasets/cell_detect_33-1/test/images/*.jpg')"
   ]
  },
  {
   "cell_type": "code",
   "execution_count": 4,
   "id": "8a850e4e",
   "metadata": {},
   "outputs": [],
   "source": [
    "pred_json = {\n",
    "    \"type\": \"Multiple points\",\n",
    "    \"num_images\": len(files),\n",
    "    \"points\": [],\n",
    "    \"version\": {\n",
    "        \"major\": 1,\n",
    "        \"minor\": 0,\n",
    "    }\n",
    "}"
   ]
  },
  {
   "cell_type": "code",
   "execution_count": 5,
   "id": "108f6754",
   "metadata": {},
   "outputs": [
    {
     "name": "stderr",
     "output_type": "stream",
     "text": [
      "  0%|                                                                                                                                                                              | 0/400 [00:00<?, ?it/s]Ultralytics YOLOv8.0.20 🚀 Python-3.8.13 torch-1.13.1+cu117 CUDA:0 (NVIDIA A100-SXM4-80GB, 81251MiB)\n",
      "Model summary (fused): 218 layers, 25840918 parameters, 0 gradients, 78.7 GFLOPs\n",
      " 25%|█████████████████████████████████████████                                                                                                                           | 100/400 [02:05<05:38,  1.13s/it]Exception in thread Thread-35:\n",
      "Traceback (most recent call last):\n",
      "  File \"/opt/conda/lib/python3.8/site-packages/urllib3/connectionpool.py\", line 703, in urlopen\n",
      "    httplib_response = self._make_request(\n",
      "  File \"/opt/conda/lib/python3.8/site-packages/urllib3/connectionpool.py\", line 386, in _make_request\n",
      "    self._validate_conn(conn)\n",
      "  File \"/opt/conda/lib/python3.8/site-packages/urllib3/connectionpool.py\", line 1042, in _validate_conn\n",
      "    conn.connect()\n",
      "  File \"/opt/conda/lib/python3.8/site-packages/urllib3/connection.py\", line 419, in connect\n",
      "    self.sock = ssl_wrap_socket(\n",
      "  File \"/opt/conda/lib/python3.8/site-packages/urllib3/util/ssl_.py\", line 449, in ssl_wrap_socket\n",
      "    ssl_sock = _ssl_wrap_socket_impl(\n",
      "  File \"/opt/conda/lib/python3.8/site-packages/urllib3/util/ssl_.py\", line 493, in _ssl_wrap_socket_impl\n",
      "    return ssl_context.wrap_socket(sock, server_hostname=server_hostname)\n",
      "  File \"/opt/conda/lib/python3.8/ssl.py\", line 500, in wrap_socket\n",
      "    return self.sslsocket_class._create(\n",
      "  File \"/opt/conda/lib/python3.8/ssl.py\", line 1040, in _create\n",
      "    self.do_handshake()\n",
      "  File \"/opt/conda/lib/python3.8/ssl.py\", line 1309, in do_handshake\n",
      "    self._sslobj.do_handshake()\n",
      "ssl.SSLError: [SSL: WRONG_VERSION_NUMBER] wrong version number (_ssl.c:1131)\n",
      "\n",
      "During handling of the above exception, another exception occurred:\n",
      "\n",
      "Traceback (most recent call last):\n",
      "  File \"/opt/conda/lib/python3.8/site-packages/requests/adapters.py\", line 440, in send\n",
      "    resp = conn.urlopen(\n",
      "  File \"/opt/conda/lib/python3.8/site-packages/urllib3/connectionpool.py\", line 787, in urlopen\n",
      "    retries = retries.increment(\n",
      "  File \"/opt/conda/lib/python3.8/site-packages/urllib3/util/retry.py\", line 592, in increment\n",
      "    raise MaxRetryError(_pool, url, error or ResponseError(cause))\n",
      "urllib3.exceptions.MaxRetryError: HTTPSConnectionPool(host='api.ultralytics.com', port=443): Max retries exceeded with url: /v1/usage/anonymous (Caused by SSLError(SSLError(1, '[SSL: WRONG_VERSION_NUMBER] wrong version number (_ssl.c:1131)')))\n",
      "\n",
      "During handling of the above exception, another exception occurred:\n",
      "\n",
      "Traceback (most recent call last):\n",
      "  File \"/opt/conda/lib/python3.8/threading.py\", line 932, in _bootstrap_inner\n",
      "    self.run()\n",
      "  File \"/opt/conda/lib/python3.8/site-packages/sentry_sdk/integrations/threading.py\", line 72, in run\n",
      "    reraise(*_capture_exception())\n",
      "  File \"/opt/conda/lib/python3.8/site-packages/sentry_sdk/_compat.py\", line 60, in reraise\n",
      "    raise value\n",
      "  File \"/opt/conda/lib/python3.8/site-packages/sentry_sdk/integrations/threading.py\", line 70, in run\n",
      "    return old_run_func(self, *a, **kw)\n",
      "  File \"/opt/conda/lib/python3.8/threading.py\", line 870, in run\n",
      "    self._target(*self._args, **self._kwargs)\n",
      "  File \"/opt/conda/lib/python3.8/site-packages/ultralytics/hub/utils.py\", line 110, in func\n",
      "    r = requests.post(*func_args, **func_kwargs)  # i.e. post(url, data, json, files)\n",
      "  File \"/opt/conda/lib/python3.8/site-packages/requests/api.py\", line 117, in post\n",
      "    return request('post', url, data=data, json=json, **kwargs)\n",
      "  File \"/opt/conda/lib/python3.8/site-packages/requests/api.py\", line 61, in request\n",
      "    return session.request(method=method, url=url, **kwargs)\n",
      "  File \"/opt/conda/lib/python3.8/site-packages/requests/sessions.py\", line 529, in request\n",
      "    resp = self.send(prep, **send_kwargs)\n",
      "  File \"/opt/conda/lib/python3.8/site-packages/requests/sessions.py\", line 645, in send\n",
      "    r = adapter.send(request, **kwargs)\n",
      "  File \"/opt/conda/lib/python3.8/site-packages/requests/adapters.py\", line 517, in send\n",
      "    raise SSLError(e, request=request)\n",
      "requests.exceptions.SSLError: HTTPSConnectionPool(host='api.ultralytics.com', port=443): Max retries exceeded with url: /v1/usage/anonymous (Caused by SSLError(SSLError(1, '[SSL: WRONG_VERSION_NUMBER] wrong version number (_ssl.c:1131)')))\n",
      " 83%|████████████████████████████████████████████████████████████████████████████████████████████████████████████████████████████████████████▌                           | 333/400 [09:47<02:26,  2.19s/it]Exception in thread Thread-146:\n",
      "Traceback (most recent call last):\n",
      "  File \"/opt/conda/lib/python3.8/site-packages/urllib3/connectionpool.py\", line 703, in urlopen\n",
      "    httplib_response = self._make_request(\n",
      "  File \"/opt/conda/lib/python3.8/site-packages/urllib3/connectionpool.py\", line 386, in _make_request\n",
      "    self._validate_conn(conn)\n",
      "  File \"/opt/conda/lib/python3.8/site-packages/urllib3/connectionpool.py\", line 1042, in _validate_conn\n",
      "    conn.connect()\n",
      "  File \"/opt/conda/lib/python3.8/site-packages/urllib3/connection.py\", line 419, in connect\n",
      "    self.sock = ssl_wrap_socket(\n",
      "  File \"/opt/conda/lib/python3.8/site-packages/urllib3/util/ssl_.py\", line 449, in ssl_wrap_socket\n",
      "    ssl_sock = _ssl_wrap_socket_impl(\n",
      "  File \"/opt/conda/lib/python3.8/site-packages/urllib3/util/ssl_.py\", line 493, in _ssl_wrap_socket_impl\n",
      "    return ssl_context.wrap_socket(sock, server_hostname=server_hostname)\n",
      "  File \"/opt/conda/lib/python3.8/ssl.py\", line 500, in wrap_socket\n",
      "    return self.sslsocket_class._create(\n",
      "  File \"/opt/conda/lib/python3.8/ssl.py\", line 1040, in _create\n",
      "    self.do_handshake()\n",
      "  File \"/opt/conda/lib/python3.8/ssl.py\", line 1309, in do_handshake\n",
      "    self._sslobj.do_handshake()\n",
      "ssl.SSLError: [SSL: WRONG_VERSION_NUMBER] wrong version number (_ssl.c:1131)\n",
      "\n",
      "During handling of the above exception, another exception occurred:\n",
      "\n",
      "Traceback (most recent call last):\n",
      "  File \"/opt/conda/lib/python3.8/site-packages/requests/adapters.py\", line 440, in send\n",
      "    resp = conn.urlopen(\n",
      "  File \"/opt/conda/lib/python3.8/site-packages/urllib3/connectionpool.py\", line 787, in urlopen\n",
      "    retries = retries.increment(\n",
      "  File \"/opt/conda/lib/python3.8/site-packages/urllib3/util/retry.py\", line 592, in increment\n",
      "    raise MaxRetryError(_pool, url, error or ResponseError(cause))\n",
      "urllib3.exceptions.MaxRetryError: HTTPSConnectionPool(host='api.ultralytics.com', port=443): Max retries exceeded with url: /v1/usage/anonymous (Caused by SSLError(SSLError(1, '[SSL: WRONG_VERSION_NUMBER] wrong version number (_ssl.c:1131)')))\n",
      "\n",
      "During handling of the above exception, another exception occurred:\n",
      "\n",
      "Traceback (most recent call last):\n",
      "  File \"/opt/conda/lib/python3.8/threading.py\", line 932, in _bootstrap_inner\n",
      "    self.run()\n",
      "  File \"/opt/conda/lib/python3.8/site-packages/sentry_sdk/integrations/threading.py\", line 72, in run\n",
      "    reraise(*_capture_exception())\n",
      "  File \"/opt/conda/lib/python3.8/site-packages/sentry_sdk/_compat.py\", line 60, in reraise\n",
      "    raise value\n",
      "  File \"/opt/conda/lib/python3.8/site-packages/sentry_sdk/integrations/threading.py\", line 70, in run\n",
      "    return old_run_func(self, *a, **kw)\n",
      "  File \"/opt/conda/lib/python3.8/threading.py\", line 870, in run\n",
      "    self._target(*self._args, **self._kwargs)\n",
      "  File \"/opt/conda/lib/python3.8/site-packages/ultralytics/hub/utils.py\", line 110, in func\n",
      "    r = requests.post(*func_args, **func_kwargs)  # i.e. post(url, data, json, files)\n",
      "  File \"/opt/conda/lib/python3.8/site-packages/requests/api.py\", line 117, in post\n",
      "    return request('post', url, data=data, json=json, **kwargs)\n",
      "  File \"/opt/conda/lib/python3.8/site-packages/requests/api.py\", line 61, in request\n",
      "    return session.request(method=method, url=url, **kwargs)\n",
      "  File \"/opt/conda/lib/python3.8/site-packages/requests/sessions.py\", line 529, in request\n",
      "    resp = self.send(prep, **send_kwargs)\n",
      "  File \"/opt/conda/lib/python3.8/site-packages/requests/sessions.py\", line 645, in send\n",
      "    r = adapter.send(request, **kwargs)\n",
      "  File \"/opt/conda/lib/python3.8/site-packages/requests/adapters.py\", line 517, in send\n",
      "    raise SSLError(e, request=request)\n",
      "requests.exceptions.SSLError: HTTPSConnectionPool(host='api.ultralytics.com', port=443): Max retries exceeded with url: /v1/usage/anonymous (Caused by SSLError(SSLError(1, '[SSL: WRONG_VERSION_NUMBER] wrong version number (_ssl.c:1131)')))\n",
      "100%|████████████████████████████████████████████████████████████████████████████████████████████████████████████████████████████████████████████████████████████████████| 400/400 [11:44<00:00,  1.76s/it]\n"
     ]
    }
   ],
   "source": [
    "for j,file in enumerate(tqdm(files)):\n",
    "    idx = int(file.split('/')[-1][:-4]) -1 \n",
    "    img = np.array(Image.open(file))\n",
    "    out = model.predict(file,conf=0.2,iou=0.5)\n",
    "    out = out[0].cpu().numpy()\n",
    "    boxes = out.boxes.data\n",
    "    \n",
    "    for i in range(len(boxes)):\n",
    "        x,y = min(1023,int((boxes[i][0]+boxes[i][2])/2)), min(1023,int((boxes[i][1]+boxes[i][3])/2))\n",
    "        left,right = max(0,y-64), min(1024,y+64)\n",
    "        top,bottom = max(0,x-64), min(1024,x+64)\n",
    "        patch = img[left:right,top:bottom]\n",
    "        patch = patch/255\n",
    "        patch = patch - 0.5\n",
    "        patch = torch.Tensor(np.moveaxis(patch, -1, 0))\n",
    "        patch = patch[None,:]\n",
    "        patch = patch.to(device)\n",
    "        with torch.no_grad():\n",
    "            prob = classifier(patch)\n",
    "        prob = prob.cpu().numpy()[0][0]\n",
    "        if prob<=0.5:\n",
    "            clas = 0\n",
    "            prob = 1 - prob\n",
    "        else:\n",
    "            clas = 1\n",
    "        point = {\n",
    "                \"name\": f\"image_{idx}\",\n",
    "                \"point\": [int(x), int(y), int(clas)+1],\n",
    "                \"probability\": prob.astype(float),  # dummy value, since it is a GT, not a prediction\n",
    "                }\n",
    "        pred_json[\"points\"].append(point)\n",
    "                                "
   ]
  },
  {
   "cell_type": "code",
   "execution_count": 6,
   "id": "91f017cb",
   "metadata": {},
   "outputs": [
    {
     "name": "stdout",
     "output_type": "stream",
     "text": [
      "JSON file saved\n"
     ]
    }
   ],
   "source": [
    "# # with open(\"/workspace/jay/DDP/Ocelot/jsons/pred1.json\", \"w\") as g:\n",
    "with open(\"/workspace/jay/DDP/Ocelot/ocelot23algo/evaluation/yolo_pred_binary.json\", \"w\") as g:\n",
    "    json.dump(pred_json, g)\n",
    "    print(\"JSON file saved\")"
   ]
  },
  {
   "cell_type": "code",
   "execution_count": 6,
   "id": "c70bf7f7",
   "metadata": {},
   "outputs": [
    {
     "data": {
      "text/plain": [
       "213"
      ]
     },
     "execution_count": 6,
     "metadata": {},
     "output_type": "execute_result"
    }
   ],
   "source": []
  },
  {
   "cell_type": "code",
   "execution_count": null,
   "id": "02aea24f",
   "metadata": {},
   "outputs": [],
   "source": []
  },
  {
   "cell_type": "code",
   "execution_count": null,
   "id": "b26926b6",
   "metadata": {},
   "outputs": [],
   "source": []
  },
  {
   "cell_type": "code",
   "execution_count": null,
   "id": "a4404f22",
   "metadata": {},
   "outputs": [],
   "source": []
  },
  {
   "cell_type": "code",
   "execution_count": 8,
   "id": "bf19cd36",
   "metadata": {},
   "outputs": [],
   "source": []
  },
  {
   "cell_type": "code",
   "execution_count": null,
   "id": "2baa9576",
   "metadata": {},
   "outputs": [],
   "source": []
  },
  {
   "cell_type": "code",
   "execution_count": null,
   "id": "45bb77da",
   "metadata": {},
   "outputs": [],
   "source": []
  },
  {
   "cell_type": "code",
   "execution_count": null,
   "id": "657ba229",
   "metadata": {},
   "outputs": [],
   "source": []
  },
  {
   "cell_type": "code",
   "execution_count": null,
   "id": "d2a0c217",
   "metadata": {},
   "outputs": [],
   "source": []
  },
  {
   "cell_type": "code",
   "execution_count": null,
   "id": "770fca96",
   "metadata": {},
   "outputs": [],
   "source": []
  },
  {
   "cell_type": "code",
   "execution_count": null,
   "id": "2ba8d2c1",
   "metadata": {},
   "outputs": [],
   "source": []
  },
  {
   "cell_type": "code",
   "execution_count": null,
   "id": "3eafe121",
   "metadata": {},
   "outputs": [],
   "source": []
  },
  {
   "cell_type": "code",
   "execution_count": 4,
   "id": "a8c2f2d0",
   "metadata": {},
   "outputs": [],
   "source": []
  },
  {
   "cell_type": "code",
   "execution_count": null,
   "id": "f180c312",
   "metadata": {},
   "outputs": [],
   "source": []
  },
  {
   "cell_type": "code",
   "execution_count": null,
   "id": "edb69e31",
   "metadata": {},
   "outputs": [],
   "source": []
  },
  {
   "cell_type": "code",
   "execution_count": null,
   "id": "39fd15d0",
   "metadata": {},
   "outputs": [],
   "source": []
  },
  {
   "cell_type": "code",
   "execution_count": null,
   "id": "9170e6f2",
   "metadata": {},
   "outputs": [],
   "source": []
  },
  {
   "cell_type": "code",
   "execution_count": null,
   "id": "96b4313e",
   "metadata": {},
   "outputs": [],
   "source": []
  },
  {
   "cell_type": "code",
   "execution_count": null,
   "id": "83ef6532",
   "metadata": {},
   "outputs": [],
   "source": []
  },
  {
   "cell_type": "code",
   "execution_count": null,
   "id": "65378f7a",
   "metadata": {},
   "outputs": [],
   "source": []
  },
  {
   "cell_type": "code",
   "execution_count": null,
   "id": "90eb52f9",
   "metadata": {},
   "outputs": [],
   "source": []
  },
  {
   "cell_type": "code",
   "execution_count": null,
   "id": "5a023b81",
   "metadata": {},
   "outputs": [],
   "source": []
  },
  {
   "cell_type": "code",
   "execution_count": null,
   "id": "05594ed4",
   "metadata": {},
   "outputs": [],
   "source": []
  }
 ],
 "metadata": {
  "kernelspec": {
   "display_name": "Python 3 (ipykernel)",
   "language": "python",
   "name": "python3"
  },
  "language_info": {
   "codemirror_mode": {
    "name": "ipython",
    "version": 3
   },
   "file_extension": ".py",
   "mimetype": "text/x-python",
   "name": "python",
   "nbconvert_exporter": "python",
   "pygments_lexer": "ipython3",
   "version": "3.8.13"
  }
 },
 "nbformat": 4,
 "nbformat_minor": 5
}
