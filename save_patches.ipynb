{
 "cells": [
  {
   "cell_type": "code",
   "execution_count": 1,
   "id": "2994bd63",
   "metadata": {},
   "outputs": [],
   "source": [
    "import glob\n",
    "import pandas as pd\n",
    "import numpy as np\n",
    "from tqdm import tqdm\n",
    "from PIL import Image\n",
    "import matplotlib.pyplot as plt\n",
    "import random"
   ]
  },
  {
   "cell_type": "code",
   "execution_count": 2,
   "id": "3fd5738b",
   "metadata": {},
   "outputs": [],
   "source": [
    "csvs = sorted(glob.glob('/workspace/jay/DDP/Ocelot/ocelot2023/annotations/train/cell/*.csv'))\n",
    "imgs = sorted(glob.glob('/workspace/jay/DDP/Ocelot/ocelot2023/images/train/cell/*.jpg'))\n",
    "masks = sorted(glob.glob('/workspace/jay/DDP/Ocelot/ocelot2023/cell_seg_masks/*.npy'))\n",
    "assert(len(csvs)==len(imgs))\n",
    "assert(len(csvs)==len(masks))"
   ]
  },
  {
   "cell_type": "code",
   "execution_count": 3,
   "id": "49f45053",
   "metadata": {},
   "outputs": [],
   "source": [
    "# for i in tqdm(range(len(csvs))):   #creating masks for original cell patches\n",
    "#     try:\n",
    "#         annot = pd.read_csv(csvs[i],header=None)\n",
    "#         name = csvs[i].split('/')[-1][:-4]\n",
    "#         gt = np.zeros((3,1024,1024))\n",
    "#         for j in range(len(annot)):\n",
    "#             x,y,clas = annot.loc[j][0], annot.loc[j][1], annot.loc[j][2]\n",
    "#             Y, X = np.ogrid[:1024, :1024]\n",
    "#             dist_from_center = np.sqrt((X - x)**2 + (Y-y)**2)\n",
    "#             mask = dist_from_center <= 15\n",
    "#             if clas==1:\n",
    "#                 gt[0][mask] = 1\n",
    "#             else:\n",
    "#                 gt[1][mask] = 1\n",
    "#         gt[2][np.where(gt[0]!=1) and np.where(gt[1]!=1)]  = 1\n",
    "#         np.save(f'/workspace/jay/DDP/Ocelot/ocelot2023/cell_seg_masks/{name}.npy', gt)\n",
    "#     except: \n",
    "#         name = csvs[i].split('/')[-1][:-4]\n",
    "#         gt = np.zeros((3,1024,1024))\n",
    "#         gt[2] = 1\n",
    "#         np.save(f'/workspace/jay/DDP/Ocelot/ocelot2023/cell_seg_masks/{name}.npy', gt)"
   ]
  },
  {
   "cell_type": "code",
   "execution_count": 4,
   "id": "c0baf606",
   "metadata": {},
   "outputs": [
    {
     "name": "stderr",
     "output_type": "stream",
     "text": [
      "100%|████████████████████████████████████████████████████████████████████████████████████████████████████████████████████████████████████████████████████████████████████████████| 399/399 [05:54<00:00,  1.13it/s]\n"
     ]
    }
   ],
   "source": [
    "for i in tqdm(range(1,len(csvs))):   #creating masks for original cell patches\n",
    "    try:\n",
    "        annot = pd.read_csv(csvs[i],header=None)\n",
    "        name = csvs[i].split('/')[-1][:-4]\n",
    "        image = np.array(Image.open(imgs[i]))\n",
    "        gt = np.moveaxis(np.load(masks[i]),0,-1)\n",
    "        for j in (range(len(annot))):\n",
    "            y,x,clas = annot.loc[j][0], annot.loc[j][1], annot.loc[j][2]     \n",
    "            left,right = max(0,x-64), min(1024,x+64)\n",
    "            top,bottom = max(0,y-64), min(1024,y+64)\n",
    "            patch = image[left:right,top:bottom,:]\n",
    "            mask = gt[left:right,top:bottom,:]\n",
    "            mask = np.moveaxis(mask,-1,0)\n",
    "            if patch.shape==(128,128,3):\n",
    "                patch = Image.fromarray(patch)\n",
    "                patch.save(f'/workspace/jay/DDP/Ocelot/cell_patches/patches/{clas-1}_{name}_{j}.png')\n",
    "                np.save(f'/workspace/jay/DDP/Ocelot/cell_patches/gt_masks/{clas-1}_{name}_{j}.npy', mask)\n",
    "    except: \n",
    "        image = np.array(Image.open(imgs[i]))\n",
    "        gt = np.moveaxis(np.load(masks[i]),0,-1)\n",
    "        for k in range(64):\n",
    "            x,y = random.randint(65,949),random.randint(65,949)\n",
    "            patch = image[x-64:x+64,y-64:y+64,:]\n",
    "            patch = Image.fromarray(patch)\n",
    "            mask = gt[x-64:x+64,y-64:y+64,:]\n",
    "            mask = np.moveaxis(mask,-1,0)\n",
    "            patch.save(f'/workspace/jay/DDP/Ocelot/cell_patches/patches/2_{name}_{k}.png')\n",
    "            np.save(f'/workspace/jay/DDP/Ocelot/cell_patches/gt_masks/2_{name}_{k}.npy', mask)"
   ]
  },
  {
   "cell_type": "code",
   "execution_count": 5,
   "id": "f3cb3df5",
   "metadata": {},
   "outputs": [
    {
     "data": {
      "text/plain": [
       "(87, 96, 3)"
      ]
     },
     "execution_count": 5,
     "metadata": {},
     "output_type": "execute_result"
    }
   ],
   "source": [
    "patch.shape"
   ]
  },
  {
   "cell_type": "code",
   "execution_count": 6,
   "id": "9f093076",
   "metadata": {},
   "outputs": [
    {
     "name": "stdout",
     "output_type": "stream",
     "text": [
      "50098\n"
     ]
    }
   ],
   "source": [
    "files = glob.glob('/workspace/jay/DDP/Ocelot/cell_patches/patches/*.png')\n",
    "print(len(files))"
   ]
  },
  {
   "cell_type": "code",
   "execution_count": 65,
   "id": "00220f98",
   "metadata": {},
   "outputs": [
    {
     "data": {
      "text/plain": [
       "916"
      ]
     },
     "execution_count": 65,
     "metadata": {},
     "output_type": "execute_result"
    }
   ],
   "source": [
    "x"
   ]
  },
  {
   "cell_type": "code",
   "execution_count": 22,
   "id": "beb4cabe",
   "metadata": {},
   "outputs": [],
   "source": [
    "i=1\n",
    "annot = pd.read_csv(csvs[i],header=None)\n",
    "name = csvs[i].split('/')[-1][:-4]\n",
    "image = np.array(Image.open(imgs[i]))\n",
    "mask = np.load(masks[i])"
   ]
  },
  {
   "cell_type": "code",
   "execution_count": 23,
   "id": "2723f903",
   "metadata": {},
   "outputs": [],
   "source": [
    "j=10\n",
    "y,x,clas = annot.loc[j][0], annot.loc[j][1], annot.loc[j][2]  "
   ]
  },
  {
   "cell_type": "code",
   "execution_count": 24,
   "id": "6bbfd64d",
   "metadata": {},
   "outputs": [
    {
     "data": {
      "text/plain": [
       "<matplotlib.image.AxesImage at 0x7f44a402abb0>"
      ]
     },
     "execution_count": 24,
     "metadata": {},
     "output_type": "execute_result"
    },
    {
     "data": {
      "image/png": "[encoded data removed]",
      "text/plain": [
       "<Figure size 432x288 with 1 Axes>"
      ]
     },
     "metadata": {
      "needs_background": "light"
     },
     "output_type": "display_data"
    }
   ],
   "source": [
    "plt.imshow(np.moveaxis(mask,0,-1)[x-64:x+64,y-64:y+64,:])"
   ]
  },
  {
   "cell_type": "code",
   "execution_count": 25,
   "id": "3714bedc",
   "metadata": {},
   "outputs": [],
   "source": [
    "mask = np.moveaxis(mask,0,-1)"
   ]
  },
  {
   "cell_type": "code",
   "execution_count": 26,
   "id": "9efb6edc",
   "metadata": {},
   "outputs": [],
   "source": [
    "n = np.moveaxis(mask,-1,0)"
   ]
  },
  {
   "cell_type": "code",
   "execution_count": 28,
   "id": "1aefa5b2",
   "metadata": {},
   "outputs": [
    {
     "data": {
      "text/plain": [
       "<matplotlib.image.AxesImage at 0x7f44a3fd6250>"
      ]
     },
     "execution_count": 28,
     "metadata": {},
     "output_type": "execute_result"
    },
    {
     "data": {
      "image/png": "[encoded data removed]",
      "text/plain": [
       "<Figure size 432x288 with 1 Axes>"
      ]
     },
     "metadata": {
      "needs_background": "light"
     },
     "output_type": "display_data"
    }
   ],
   "source": [
    "plt.imshow(np.moveaxis(n,0,-1)[x-64:x+64,y-64:y+64,:])"
   ]
  },
  {
   "cell_type": "code",
   "execution_count": 21,
   "id": "0f98bf6d",
   "metadata": {},
   "outputs": [
    {
     "ename": "AttributeError",
     "evalue": "'tuple' object has no attribute 'shape'",
     "output_type": "error",
     "traceback": [
      "\u001b[0;31m---------------------------------------------------------------------------\u001b[0m",
      "\u001b[0;31mAttributeError\u001b[0m                            Traceback (most recent call last)",
      "Input \u001b[0;32mIn [21]\u001b[0m, in \u001b[0;36m<cell line: 1>\u001b[0;34m()\u001b[0m\n\u001b[0;32m----> 1\u001b[0m \u001b[43mn\u001b[49m\u001b[38;5;241;43m.\u001b[39;49m\u001b[43mshape\u001b[49m\n",
      "\u001b[0;31mAttributeError\u001b[0m: 'tuple' object has no attribute 'shape'"
     ]
    }
   ],
   "source": [
    "n.shape"
   ]
  },
  {
   "cell_type": "code",
   "execution_count": null,
   "id": "c8e9efd4",
   "metadata": {},
   "outputs": [],
   "source": []
  }
 ],
 "metadata": {
  "kernelspec": {
   "display_name": "Python 3 (ipykernel)",
   "language": "python",
   "name": "python3"
  },
  "language_info": {
   "codemirror_mode": {
    "name": "ipython",
    "version": 3
   },
   "file_extension": ".py",
   "mimetype": "text/x-python",
   "name": "python",
   "nbconvert_exporter": "python",
   "pygments_lexer": "ipython3",
   "version": "3.8.13"
  }
 },
 "nbformat": 4,
 "nbformat_minor": 5
}
